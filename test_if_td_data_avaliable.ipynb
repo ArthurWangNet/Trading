{
 "cells": [
  {
   "cell_type": "code",
   "execution_count": 1,
   "metadata": {},
   "outputs": [],
   "source": [
    "import time_utilities\n",
    "import pandas as pd\n",
    "import numpy as np\n",
    "import os\n",
    "import TD_API\n",
    "import Paths\n",
    "import time\n",
    "import api_keys\n",
    "import requests\n",
    "import utilities\n",
    "from tqdm import tqdm"
   ]
  },
  {
   "cell_type": "markdown",
   "metadata": {},
   "source": [
    "## First Test at 7:00PM. No update."
   ]
  },
  {
   "cell_type": "code",
   "execution_count": 3,
   "metadata": {},
   "outputs": [],
   "source": [
    "def get_eod_data_from_start(symbol):\n",
    "\t#Define payload\n",
    "\tpayload = {\n",
    "\t\t'apikey': api_keys.APIKEY_DAILY,\n",
    "\t\t'periodType' : 'ytd',\n",
    "        'period' : '1',\n",
    "        'frequencyType': 'daily',\n",
    "        'frequency':'1',\n",
    "\t\t'startDate': '21600000' #This is 1970-01-01\n",
    "\t}\n",
    "\tendpoint = TD_API.get_price_history_endpoint(symbol)\n",
    "\n",
    "\t#Get data\n",
    "\ttry:\n",
    "\t\ttime.sleep(0.6)\n",
    "\t\ttd_response = requests.get(url=endpoint, params=payload)\n",
    "\t\tcontent = td_response.json()\n",
    "\t\tdf = pd.DataFrame(content['candles'])\n",
    "\t\t#df.to_csv(os.path.join(updates_folder, symbol + '.csv'), index=False)\n",
    "\t\treturn df\n",
    "\texcept:\n",
    "\t\tprint(symbol + \" failed.\")"
   ]
  },
  {
   "cell_type": "code",
   "execution_count": 4,
   "metadata": {},
   "outputs": [
    {
     "data": {
      "text/html": [
       "<div>\n",
       "<style scoped>\n",
       "    .dataframe tbody tr th:only-of-type {\n",
       "        vertical-align: middle;\n",
       "    }\n",
       "\n",
       "    .dataframe tbody tr th {\n",
       "        vertical-align: top;\n",
       "    }\n",
       "\n",
       "    .dataframe thead th {\n",
       "        text-align: right;\n",
       "    }\n",
       "</style>\n",
       "<table border=\"1\" class=\"dataframe\">\n",
       "  <thead>\n",
       "    <tr style=\"text-align: right;\">\n",
       "      <th></th>\n",
       "      <th>open</th>\n",
       "      <th>high</th>\n",
       "      <th>low</th>\n",
       "      <th>close</th>\n",
       "      <th>volume</th>\n",
       "      <th>datetime</th>\n",
       "    </tr>\n",
       "  </thead>\n",
       "  <tbody>\n",
       "    <tr>\n",
       "      <th>0</th>\n",
       "      <td>0.130023</td>\n",
       "      <td>0.130023</td>\n",
       "      <td>0.124442</td>\n",
       "      <td>0.124442</td>\n",
       "      <td>175302400</td>\n",
       "      <td>473493600000</td>\n",
       "    </tr>\n",
       "    <tr>\n",
       "      <th>1</th>\n",
       "      <td>0.126674</td>\n",
       "      <td>0.130023</td>\n",
       "      <td>0.126674</td>\n",
       "      <td>0.126674</td>\n",
       "      <td>166611200</td>\n",
       "      <td>473580000000</td>\n",
       "    </tr>\n",
       "    <tr>\n",
       "      <th>2</th>\n",
       "      <td>0.126674</td>\n",
       "      <td>0.127232</td>\n",
       "      <td>0.125000</td>\n",
       "      <td>0.126674</td>\n",
       "      <td>137267200</td>\n",
       "      <td>473666400000</td>\n",
       "    </tr>\n",
       "    <tr>\n",
       "      <th>3</th>\n",
       "      <td>0.126674</td>\n",
       "      <td>0.127232</td>\n",
       "      <td>0.126116</td>\n",
       "      <td>0.126116</td>\n",
       "      <td>170912000</td>\n",
       "      <td>473925600000</td>\n",
       "    </tr>\n",
       "    <tr>\n",
       "      <th>4</th>\n",
       "      <td>0.126116</td>\n",
       "      <td>0.127232</td>\n",
       "      <td>0.125000</td>\n",
       "      <td>0.125000</td>\n",
       "      <td>141120000</td>\n",
       "      <td>474012000000</td>\n",
       "    </tr>\n",
       "    <tr>\n",
       "      <th>...</th>\n",
       "      <td>...</td>\n",
       "      <td>...</td>\n",
       "      <td>...</td>\n",
       "      <td>...</td>\n",
       "      <td>...</td>\n",
       "      <td>...</td>\n",
       "    </tr>\n",
       "    <tr>\n",
       "      <th>9299</th>\n",
       "      <td>157.650000</td>\n",
       "      <td>161.020000</td>\n",
       "      <td>156.532800</td>\n",
       "      <td>160.550000</td>\n",
       "      <td>117305597</td>\n",
       "      <td>1637301600000</td>\n",
       "    </tr>\n",
       "    <tr>\n",
       "      <th>9300</th>\n",
       "      <td>161.680000</td>\n",
       "      <td>165.700000</td>\n",
       "      <td>161.000000</td>\n",
       "      <td>161.020000</td>\n",
       "      <td>117467889</td>\n",
       "      <td>1637560800000</td>\n",
       "    </tr>\n",
       "    <tr>\n",
       "      <th>9301</th>\n",
       "      <td>161.120000</td>\n",
       "      <td>161.800000</td>\n",
       "      <td>159.060100</td>\n",
       "      <td>161.410000</td>\n",
       "      <td>96041899</td>\n",
       "      <td>1637647200000</td>\n",
       "    </tr>\n",
       "    <tr>\n",
       "      <th>9302</th>\n",
       "      <td>160.750000</td>\n",
       "      <td>162.140000</td>\n",
       "      <td>159.640000</td>\n",
       "      <td>161.940000</td>\n",
       "      <td>69463623</td>\n",
       "      <td>1637733600000</td>\n",
       "    </tr>\n",
       "    <tr>\n",
       "      <th>9303</th>\n",
       "      <td>159.565000</td>\n",
       "      <td>160.450000</td>\n",
       "      <td>156.360000</td>\n",
       "      <td>156.810000</td>\n",
       "      <td>76959752</td>\n",
       "      <td>1637906400000</td>\n",
       "    </tr>\n",
       "  </tbody>\n",
       "</table>\n",
       "<p>9304 rows × 6 columns</p>\n",
       "</div>"
      ],
      "text/plain": [
       "            open        high         low       close     volume       datetime\n",
       "0       0.130023    0.130023    0.124442    0.124442  175302400   473493600000\n",
       "1       0.126674    0.130023    0.126674    0.126674  166611200   473580000000\n",
       "2       0.126674    0.127232    0.125000    0.126674  137267200   473666400000\n",
       "3       0.126674    0.127232    0.126116    0.126116  170912000   473925600000\n",
       "4       0.126116    0.127232    0.125000    0.125000  141120000   474012000000\n",
       "...          ...         ...         ...         ...        ...            ...\n",
       "9299  157.650000  161.020000  156.532800  160.550000  117305597  1637301600000\n",
       "9300  161.680000  165.700000  161.000000  161.020000  117467889  1637560800000\n",
       "9301  161.120000  161.800000  159.060100  161.410000   96041899  1637647200000\n",
       "9302  160.750000  162.140000  159.640000  161.940000   69463623  1637733600000\n",
       "9303  159.565000  160.450000  156.360000  156.810000   76959752  1637906400000\n",
       "\n",
       "[9304 rows x 6 columns]"
      ]
     },
     "execution_count": 4,
     "metadata": {},
     "output_type": "execute_result"
    }
   ],
   "source": [
    "AAPL = get_eod_data_from_start('AAPL')\n",
    "AAPL"
   ]
  },
  {
   "cell_type": "code",
   "execution_count": 7,
   "metadata": {},
   "outputs": [
    {
     "data": {
      "text/plain": [
       "'2021-11-26 01:00:00'"
      ]
     },
     "execution_count": 7,
     "metadata": {},
     "output_type": "execute_result"
    }
   ],
   "source": [
    "time_utilities.epoch_to_eastern(AAPL.iloc[-1]['datetime'])"
   ]
  },
  {
   "cell_type": "code",
   "execution_count": 10,
   "metadata": {},
   "outputs": [
    {
     "data": {
      "text/plain": [
       "open                     159.565\n",
       "high                      160.45\n",
       "low                       156.36\n",
       "close                     156.81\n",
       "volume                  76959752\n",
       "timestamp          1637906400000\n",
       "datetime     2021-11-26 01:00:00\n",
       "Name: 0, dtype: object"
      ]
     },
     "execution_count": 10,
     "metadata": {},
     "output_type": "execute_result"
    }
   ],
   "source": [
    "old_AAPL = pd.read_csv(os.path.join(Paths.Daily_Data_Production_Folder, 'AAPL.csv'))\n",
    "old_AAPL.iloc[0]"
   ]
  },
  {
   "cell_type": "code",
   "execution_count": null,
   "metadata": {},
   "outputs": [],
   "source": []
  }
 ],
 "metadata": {
  "interpreter": {
   "hash": "72c29718af5f6d5698aef5128c7a322e07cf1de69fcce3aed1d5f85ab10241e8"
  },
  "kernelspec": {
   "display_name": "Python 3.7.2 64-bit ('venv': venv)",
   "language": "python",
   "name": "python3"
  },
  "language_info": {
   "codemirror_mode": {
    "name": "ipython",
    "version": 3
   },
   "file_extension": ".py",
   "mimetype": "text/x-python",
   "name": "python",
   "nbconvert_exporter": "python",
   "pygments_lexer": "ipython3",
   "version": "3.7.2"
  },
  "orig_nbformat": 4
 },
 "nbformat": 4,
 "nbformat_minor": 2
}
