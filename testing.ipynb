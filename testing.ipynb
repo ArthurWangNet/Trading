{
 "cells": [],
 "metadata": {
  "interpreter": {
   "hash": "72c29718af5f6d5698aef5128c7a322e07cf1de69fcce3aed1d5f85ab10241e8"
  },
  "kernelspec": {
   "display_name": "Python 3.7.2 64-bit ('venv': venv)",
   "language": "python",
   "name": "python3"
  },
  "language_info": {
   "codemirror_mode": {
    "name": "ipython",
    "version": 3
   },
   "file_extension": ".py",
   "mimetype": "text/x-python",
   "name": "python",
   "nbconvert_exporter": "python",
   "pygments_lexer": "ipython3",
   "version": "3.7.2"
  },
  "orig_nbformat": 4
 },
 "nbformat": 4,
 "nbformat_minor": 2
}
