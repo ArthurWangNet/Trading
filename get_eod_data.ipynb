{
 "cells": [
  {
   "cell_type": "markdown",
   "metadata": {},
   "source": [
    "# TDAmeritrade's API to get Historical EOD data notes\n",
    "From script 1 and script 2, we will get the latest stock list, which contians all the instrusments we are interested to get data for.\n",
    "For retriving data, the real question is about stock split.\n"
   ]
  },
  {
   "cell_type": "code",
   "execution_count": 22,
   "metadata": {},
   "outputs": [],
   "source": [
    "import time_utilities\n",
    "import pandas as pd\n",
    "import numpy as np\n",
    "import datetime\n",
    "import os\n",
    "import pytz\n",
    "import TD_API\n",
    "import Paths\n",
    "import time\n",
    "import api_keys\n",
    "import requests\n",
    "import utilities"
   ]
  },
  {
   "cell_type": "code",
   "execution_count": 13,
   "metadata": {},
   "outputs": [
    {
     "data": {
      "text/plain": [
       "21600000"
      ]
     },
     "execution_count": 13,
     "metadata": {},
     "output_type": "execute_result"
    }
   ],
   "source": [
    "time_utilities.eastern_to_epoch('1970-01-01 01:00:00')"
   ]
  },
  {
   "cell_type": "code",
   "execution_count": 23,
   "metadata": {},
   "outputs": [],
   "source": [
    "# We first need a function which will get all eod data up to today. This function will run at the first time, and will run every time a split happens.\n",
    "\n",
    "\n",
    "def get_eod_data_from_start(symbol):\n",
    "\t#Define payload\n",
    "\tpayload = {\n",
    "\t\t'apikey': api_keys.APIKEY_DAILY,\n",
    "\t\t'periodType' : 'ytd',\n",
    "        'period' : '1',\n",
    "        'frequencyType': 'daily',\n",
    "        'frequency':'1',\n",
    "\t\t'startDate': '21600000' #This is 1970-01-01\n",
    "\t}\n",
    "\tendpoint = TD_API.get_price_history_endpoint(symbol)\n",
    "\n",
    "\t#Get data\n",
    "\ttry:\n",
    "\t\ttime.sleep(0.6)\n",
    "\t\ttd_response = requests.get(url=endpoint, params=payload)\n",
    "\t\tcontent = td_response.json()\n",
    "\t\tdf = pd.DataFrame(content['candles'])\n",
    "\t\tdf.to_csv(os.path.join(updates_folder, symbol + '.csv'), index=False)\n",
    "\t\treturn None\n",
    "\texcept:\n",
    "\t\tprint(symbol + \" failed.\")\n",
    "\t\treturn symbol\n",
    "\n"
   ]
  },
  {
   "cell_type": "code",
   "execution_count": 24,
   "metadata": {},
   "outputs": [],
   "source": [
    "today = time.strftime(\"%Y-%m-%d\")\n",
    "updates_folder = os.path.join(Paths.Daily_Data_Update_Folder, today)\n",
    "if not os.path.exists(updates_folder):\n",
    "\tos.makedirs(updates_folder)"
   ]
  },
  {
   "cell_type": "code",
   "execution_count": 25,
   "metadata": {},
   "outputs": [
    {
     "name": "stderr",
     "output_type": "stream",
     "text": [
      "Requesting AC:   1%|          | 92/14544 [01:46<4:37:57,  1.15s/it] "
     ]
    }
   ],
   "source": [
    "from tqdm import tqdm\n",
    "stock_list = utilities.get_stock_list()\n",
    "failed_list = []\n",
    "progress_bar = tqdm(stock_list)\n",
    "for symbol in progress_bar:\n",
    "\t# Show progress of the loop\n",
    "\tprogress_bar.set_description(\"Requesting %s\" % symbol)\n",
    "\tfailed = get_eod_data_from_start(symbol)\n",
    "\tif failed is not None:\n",
    "\t\tfailed_list.append(failed)\n",
    "\n",
    "if len(failed_list) > 0:\n",
    "\twith open(os.path.join(Paths.Daily_Data_Failed_List, today + '.txt'), 'w') as f:\n",
    "\t\tfor symbol in failed_list:\n",
    "\t\t\tf.write(symbol + '\\n')\n",
    "\n"
   ]
  },
  {
   "cell_type": "code",
   "execution_count": null,
   "metadata": {},
   "outputs": [],
   "source": []
  }
 ],
 "metadata": {
  "interpreter": {
   "hash": "72c29718af5f6d5698aef5128c7a322e07cf1de69fcce3aed1d5f85ab10241e8"
  },
  "kernelspec": {
   "display_name": "Python 3.7.2 64-bit ('venv': venv)",
   "language": "python",
   "name": "python3"
  },
  "language_info": {
   "codemirror_mode": {
    "name": "ipython",
    "version": 3
   },
   "file_extension": ".py",
   "mimetype": "text/x-python",
   "name": "python",
   "nbconvert_exporter": "python",
   "pygments_lexer": "ipython3",
   "version": "3.7.2"
  },
  "orig_nbformat": 4
 },
 "nbformat": 4,
 "nbformat_minor": 2
}
